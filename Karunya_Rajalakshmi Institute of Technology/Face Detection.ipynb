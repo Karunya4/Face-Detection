{
 "cells": [
  {
   "cell_type": "code",
   "execution_count": null,
   "id": "a462119b",
   "metadata": {},
   "outputs": [],
   "source": [
    "!git clone https://github.com/kipr/opencv/blob/master/data/haarcascades/haarcascade_frontalface_default.xml\n",
    "from IPython.display import clear_output\n",
    "clear_output()"
   ]
  },
  {
   "cell_type": "code",
   "execution_count": null,
   "id": "0408465b",
   "metadata": {},
   "outputs": [],
   "source": [
    "import cv2\n",
    "import numpy as np\n",
    "\n",
    "face_cascade = cv2.CascadeClassifier(\"C:\\\\Users\\\\karun\\\\Downloads\\\\haarcascade_frontalface_default.xml\")\n",
    "#img = cv2.imread(\"C:\\\\Users\\\\karun\\\\OneDrive\\\\Desktop\\\\person.jpg\")\n",
    "img = cv2.imread(\"C:\\Users\\karun\\OneDrive\\Desktop\\peoples.jpg\")\n",
    "gray = cv2.cvtColor(img,cv2.COLOR_BGR2GRAY)\n",
    "faces = face_cascade.detectMultiScale(gray,1.3,5)\n",
    "for (x,y,w,h) in faces:\n",
    "  cv2.rectangle(img,(x,y),(x+w,y+h),(0,255,0),3)\n",
    "\n",
    "cv2.imshow(\"Detected Faces\", img)\n",
    "cv2.waitKey(0)\n",
    "cv2.destroyAllWindows()\n"
   ]
  }
 ],
 "metadata": {
  "kernelspec": {
   "display_name": "Python 3 (ipykernel)",
   "language": "python",
   "name": "python3"
  },
  "language_info": {
   "codemirror_mode": {
    "name": "ipython",
    "version": 3
   },
   "file_extension": ".py",
   "mimetype": "text/x-python",
   "name": "python",
   "nbconvert_exporter": "python",
   "pygments_lexer": "ipython3",
   "version": "3.10.9"
  }
 },
 "nbformat": 4,
 "nbformat_minor": 5
}
